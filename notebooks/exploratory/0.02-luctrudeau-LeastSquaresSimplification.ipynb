{
 "cells": [
  {
   "cell_type": "markdown",
   "metadata": {},
   "source": [
    "# Least Squares Simplification\n",
    "\n",
    "In this notebook, we explore the implications of zero-mean distributions on a least squares fit.\n",
    "\n",
    "First, let $L$ be a block luma samples and $C$ the correspoding chroma samples"
   ]
  },
  {
   "cell_type": "code",
   "execution_count": 1,
   "metadata": {},
   "outputs": [],
   "source": [
    "from sympy import diff, Eq, expand, factor, Idx, IndexedBase, symbols, solveset, summation, init_printing   \n",
    "init_printing()\n",
    "\n",
    "N = symbols('N', integer='True')\n",
    "a, b = symbols('alpha, beta', integer='True')\n",
    "i = symbols('i', cls=Idx)\n",
    "L = IndexedBase('L', shape=N)\n",
    "C = IndexedBase('C', shape=N)"
   ]
  },
  {
   "cell_type": "markdown",
   "metadata": {},
   "source": [
    "Next, we define $e$ as the squarred prediction error from a linear model using zero-mean luma samples to predict chroma samples."
   ]
  },
  {
   "cell_type": "code",
   "execution_count": 2,
   "metadata": {},
   "outputs": [
    {
     "data": {
      "image/png": "[encoded data removed]",
      "text/latex": [
       "$$\\sum_{i=0}^{N - 1} \\left(\\alpha L_{i} + \\beta - C_{i}\\right)^{2}$$"
      ],
      "text/plain": [
       "N - 1                     \n",
       " ___                      \n",
       " ╲                        \n",
       "  ╲                      2\n",
       "  ╱   (α⋅L[i] + β - C[i]) \n",
       " ╱                        \n",
       " ‾‾‾                      \n",
       "i = 0                     "
      ]
     },
     "execution_count": 2,
     "metadata": {},
     "output_type": "execute_result"
    }
   ],
   "source": [
    "e = summation((a*L[i] + b - C[i])**2, (i,0,N-1))\n",
    "e"
   ]
  },
  {
   "cell_type": "markdown",
   "metadata": {},
   "source": [
    "## Equation for $\\alpha$\n",
    "To minimize the error, we compute the derivative with respect to $\\alpha$ and expand the result"
   ]
  },
  {
   "cell_type": "code",
   "execution_count": 3,
   "metadata": {},
   "outputs": [
    {
     "data": {
      "image/png": "[encoded data removed]",
      "text/latex": [
       "$$\\sum_{i=0}^{N - 1} 2 \\alpha L_{i}^{2} + \\sum_{i=0}^{N - 1} 2 \\beta L_{i} + \\sum_{i=0}^{N - 1} - 2 C_{i} L_{i}$$"
      ],
      "text/plain": [
       "N - 1             N - 1            N - 1             \n",
       " ___               ___              ___              \n",
       " ╲                 ╲                ╲                \n",
       "  ╲           2     ╲   2⋅β⋅L[i]     ╲   -2⋅C[i]⋅L[i]\n",
       "  ╱   2⋅α⋅L[i]  +   ╱            +   ╱               \n",
       " ╱                 ╱                ╱                \n",
       " ‾‾‾               ‾‾‾              ‾‾‾              \n",
       "i = 0             i = 0            i = 0             "
      ]
     },
     "execution_count": 3,
     "metadata": {},
     "output_type": "execute_result"
    }
   ],
   "source": [
    "da = diff(e, a).expand()\n",
    "da"
   ]
  },
  {
   "cell_type": "markdown",
   "metadata": {},
   "source": [
    "Since $L$ is zero-mean, the sum Àof L is 0. As such, we can remove the middle term"
   ]
  },
  {
   "cell_type": "code",
   "execution_count": 4,
   "metadata": {},
   "outputs": [
    {
     "data": {
      "image/png": "[encoded data removed]",
      "text/latex": [
       "$$2 \\alpha \\sum_{i=0}^{N - 1} L_{i}^{2} - 2 \\sum_{i=0}^{N - 1} C_{i} L_{i}$$"
      ],
      "text/plain": [
       "    N - 1           N - 1          \n",
       "     ___             ___           \n",
       "     ╲               ╲             \n",
       "      ╲       2       ╲   C[i]⋅L[i]\n",
       "2⋅α⋅  ╱   L[i]  - 2⋅  ╱            \n",
       "     ╱               ╱             \n",
       "     ‾‾‾             ‾‾‾           \n",
       "    i = 0           i = 0          "
      ]
     },
     "execution_count": 4,
     "metadata": {},
     "output_type": "execute_result"
    }
   ],
   "source": [
    "dazm = (factor(da.args[0]) + factor(da.args[1]) + factor(da.args[2])).subs(summation(L[i], (i,0,N-1)),0)\n",
    "dazm"
   ]
  },
  {
   "cell_type": "markdown",
   "metadata": {},
   "source": [
    "We solve for $\\alpha$ with the derivative equal to 0"
   ]
  },
  {
   "cell_type": "code",
   "execution_count": 5,
   "metadata": {},
   "outputs": [
    {
     "data": {
      "image/png": "[encoded data removed]",
      "text/latex": [
       "$$\\left\\{\\frac{\\sum_{i=0}^{N - 1} C_{i} L_{i}}{\\sum_{i=0}^{N - 1} L_{i}^{2}}\\right\\}$$"
      ],
      "text/plain": [
       "⎧N - 1          ⎫\n",
       "⎪ ___           ⎪\n",
       "⎪ ╲             ⎪\n",
       "⎪  ╲   C[i]⋅L[i]⎪\n",
       "⎪  ╱            ⎪\n",
       "⎪ ╱             ⎪\n",
       "⎪ ‾‾‾           ⎪\n",
       "⎪i = 0          ⎪\n",
       "⎨───────────────⎬\n",
       "⎪  N - 1        ⎪\n",
       "⎪   ___         ⎪\n",
       "⎪   ╲           ⎪\n",
       "⎪    ╲       2  ⎪\n",
       "⎪    ╱   L[i]   ⎪\n",
       "⎪   ╱           ⎪\n",
       "⎪   ‾‾‾         ⎪\n",
       "⎩  i = 0        ⎭"
      ]
     },
     "execution_count": 5,
     "metadata": {},
     "output_type": "execute_result"
    }
   ],
   "source": [
    "solveset(Eq(dazm,0),a)"
   ]
  },
  {
   "cell_type": "markdown",
   "metadata": {},
   "source": [
    "From this equation, we see that when $L$ is zero-mean, the equation of $\\alpha$ is simplified. \n",
    "\n",
    "\n",
    "## Equation for $\\beta$\n",
    "To minimize the error, we compute the derivative with respect to $\\beta$ and expand the result"
   ]
  },
  {
   "cell_type": "code",
   "execution_count": 6,
   "metadata": {},
   "outputs": [
    {
     "data": {
      "image/png": "[encoded data removed]",
      "text/latex": [
       "$$\\sum_{i=0}^{N - 1} 2 \\beta + \\sum_{i=0}^{N - 1} 2 \\alpha L_{i} + \\sum_{i=0}^{N - 1} - 2 C_{i}$$"
      ],
      "text/plain": [
       "N - 1       N - 1            N - 1        \n",
       " ___         ___              ___         \n",
       " ╲           ╲                ╲           \n",
       "  ╲   2⋅β     ╲   2⋅α⋅L[i]     ╲   -2⋅C[i]\n",
       "  ╱       +   ╱            +   ╱          \n",
       " ╱           ╱                ╱           \n",
       " ‾‾‾         ‾‾‾              ‾‾‾         \n",
       "i = 0       i = 0            i = 0        "
      ]
     },
     "execution_count": 6,
     "metadata": {},
     "output_type": "execute_result"
    }
   ],
   "source": [
    "db = diff(e, b).expand()\n",
    "db"
   ]
  },
  {
   "cell_type": "markdown",
   "metadata": {},
   "source": [
    "Since $L$ is zero-mean, the sum of L is 0. As such, we can remove the middle term"
   ]
  },
  {
   "cell_type": "code",
   "execution_count": 7,
   "metadata": {},
   "outputs": [
    {
     "data": {
      "image/png": "[encoded data removed]",
      "text/latex": [
       "$$2 \\beta \\sum_{i=0}^{N - 1} 1 - 2 \\sum_{i=0}^{N - 1} C_{i}$$"
      ],
      "text/plain": [
       "    N - 1       N - 1     \n",
       "     ___         ___      \n",
       "     ╲           ╲        \n",
       "      ╲   1       ╲   C[i]\n",
       "2⋅β⋅  ╱     - 2⋅  ╱       \n",
       "     ╱           ╱        \n",
       "     ‾‾‾         ‾‾‾      \n",
       "    i = 0       i = 0     "
      ]
     },
     "execution_count": 7,
     "metadata": {},
     "output_type": "execute_result"
    }
   ],
   "source": [
    "dbzm = (factor(db.args[0]) + factor(db.args[1]) + factor(db.args[2])).subs(summation((L[i]), (i,0,N-1)), 0)\n",
    "dbzm"
   ]
  },
  {
   "cell_type": "markdown",
   "metadata": {},
   "source": [
    "We solve for $\\beta$ with the derivative equal to 0"
   ]
  },
  {
   "cell_type": "code",
   "execution_count": 8,
   "metadata": {},
   "outputs": [
    {
     "data": {
      "image/png": "[encoded data removed]",
      "text/latex": [
       "$$\\left\\{\\frac{\\sum_{i=0}^{N - 1} C_{i}}{\\sum_{i=0}^{N - 1} 1}\\right\\}$$"
      ],
      "text/plain": [
       "⎧N - 1     ⎫\n",
       "⎪ ___      ⎪\n",
       "⎪ ╲        ⎪\n",
       "⎪  ╲   C[i]⎪\n",
       "⎪  ╱       ⎪\n",
       "⎪ ╱        ⎪\n",
       "⎪ ‾‾‾      ⎪\n",
       "⎪i = 0     ⎪\n",
       "⎨──────────⎬\n",
       "⎪ N - 1    ⎪\n",
       "⎪  ___     ⎪\n",
       "⎪  ╲       ⎪\n",
       "⎪   ╲   1  ⎪\n",
       "⎪   ╱      ⎪\n",
       "⎪  ╱       ⎪\n",
       "⎪  ‾‾‾     ⎪\n",
       "⎩ i = 0    ⎭"
      ]
     },
     "execution_count": 8,
     "metadata": {},
     "output_type": "execute_result"
    }
   ],
   "source": [
    "solveset(Eq(dbzm,0),b)"
   ]
  },
  {
   "cell_type": "markdown",
   "metadata": {},
   "source": [
    "From this equation, we see that when $L$ is zero-mean, the equation of $\\beta$ is the average."
   ]
  }
 ],
 "metadata": {
  "kernelspec": {
   "display_name": "Python 3",
   "language": "python",
   "name": "python3"
  },
  "language_info": {
   "codemirror_mode": {
    "name": "ipython",
    "version": 3
   },
   "file_extension": ".py",
   "mimetype": "text/x-python",
   "name": "python",
   "nbconvert_exporter": "python",
   "pygments_lexer": "ipython3",
   "version": "3.6.5"
  }
 },
 "nbformat": 4,
 "nbformat_minor": 2
}
