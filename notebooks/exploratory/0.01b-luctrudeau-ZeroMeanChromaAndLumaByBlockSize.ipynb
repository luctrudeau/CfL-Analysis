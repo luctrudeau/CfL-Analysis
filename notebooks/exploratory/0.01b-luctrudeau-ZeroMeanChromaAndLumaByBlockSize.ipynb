{
 "cells": [
  {
   "cell_type": "markdown",
   "metadata": {},
   "source": [
    "# Zero-Mean Chroma and Luma by Block Size\n",
    "\n",
    "In this notebook, we revisit the [Zero-Mean Chroma and Luma](https://github.com/luctrudeau/CfL-Analysis/blob/master/notebooks/exploratory/0.01a-luctrudeau-ZeroMeanChromaAndLuma.ipynb) experiment but with different block sizes to examine the impact on correlation."
   ]
  },
  {
   "cell_type": "code",
   "execution_count": 1,
   "metadata": {},
   "outputs": [
    {
     "name": "stderr",
     "output_type": "stream",
     "text": [
      "/usr/lib/python3.6/site-packages/numpy/lib/function_base.py:3183: RuntimeWarning: invalid value encountered in true_divide\n",
      "  c /= stddev[:, None]\n",
      "/usr/lib/python3.6/site-packages/numpy/lib/function_base.py:3184: RuntimeWarning: invalid value encountered in true_divide\n",
      "  c /= stddev[None, :]\n"
     ]
    }
   ],
   "source": [
    "%matplotlib inline\n",
    "\n",
    "# Load the \"autoreload\" extension so that code can change\n",
    "%load_ext autoreload\n",
    "\n",
    "# Always reload modules so that as you change code in src, it gets loaded\n",
    "%autoreload 2\n",
    "\n",
    "import load_paths\n",
    "from src.data import make_kodim\n",
    "\n",
    "import matplotlib.pyplot as plt\n",
    "import numpy as np\n",
    "\n",
    "[kodims, kodim_files] = make_kodim.load_kodim()\n",
    "num_kodim = len(kodim_files)\n",
    "\n",
    "block_sizes = [4,8,16,32]\n",
    "\n",
    "corrU = []\n",
    "corrV = []\n",
    "\n",
    "for b in range(0, 4):\n",
    "    block_size = block_sizes[b]\n",
    "    corrU.append([])\n",
    "    corrV.append([])\n",
    "    \n",
    "    for k in range(0, num_kodim):\n",
    "        im = kodims[k]\n",
    "        height, width, z = im.shape\n",
    "        plot_width = width // block_size\n",
    "        plot_height = height // block_size\n",
    "        \n",
    "        for y in range(0, height, block_size):\n",
    "            for x in range(0, width, block_size):\n",
    "                bY = im[y:y+block_size, x:x+block_size, 0].ravel()\n",
    "                bU = im[y:y+block_size, x:x+block_size, 1].ravel()\n",
    "                bV = im[y:y+block_size, x:x+block_size, 2].ravel()\n",
    "                \n",
    "                avgY = np.mean(bY)\n",
    "                avgU = np.mean(bU)\n",
    "                avgV = np.mean(bV)\n",
    "                \n",
    "                dY = bY - avgY\n",
    "                dU = bU - avgU\n",
    "                dV = bV - avgV\n",
    "                \n",
    "                corr = np.corrcoef(dY, dU)\n",
    "                c = abs(corr[0,1])\n",
    "                corrU[b].append(1 if np.isnan(c) else c)\n",
    "                \n",
    "                corr = np.corrcoef(dY, dV)\n",
    "                c = abs(corr[0,1])\n",
    "                corrV[b].append(1 if np.isnan(c) else c)"
   ]
  },
  {
   "cell_type": "markdown",
   "metadata": {},
   "source": [
    "## dY vs. dU\n",
    "\n",
    "For each block in each image, we compute the correlation between the zero-mean Y values along and the U values. The following boxplot shows the minimum, first quartile, median, third quartile and the maximum absolute correlation coefficient by block size."
   ]
  },
  {
   "cell_type": "code",
   "execution_count": 2,
   "metadata": {},
   "outputs": [
    {
     "data": {
      "image/png": "[encoded data removed]",
      "text/plain": [
       "<matplotlib.figure.Figure at 0x7fc415545ef0>"
      ]
     },
     "metadata": {},
     "output_type": "display_data"
    }
   ],
   "source": [
    "plt.boxplot((np.asarray(corrU[0]), np.asarray(corrU[1]), np.asarray(corrU[2]), np.asarray(corrU[3])), labels=['4x4','8x8', '16x16', '32x32']);\n",
    "plt.gca().set_ylim([0, 1.1]);\n",
    "plt.ylabel(\"Absolute Correlation Coefficient\");"
   ]
  },
  {
   "cell_type": "markdown",
   "metadata": {},
   "source": [
    "## dY vs. dV\n",
    "\n",
    "For each block in each image, we compute the correlation between the zero-mean Y values along and the V values. The following boxplot shows the minimum, first quartile, median, third quartile and the maximum absolute correlation coefficient by block size."
   ]
  },
  {
   "cell_type": "code",
   "execution_count": 4,
   "metadata": {},
   "outputs": [
    {
     "data": {
      "image/png": "[encoded data removed]",
      "text/plain": [
       "<matplotlib.figure.Figure at 0x7fc3c4cebe80>"
      ]
     },
     "metadata": {},
     "output_type": "display_data"
    }
   ],
   "source": [
    "plt.boxplot((np.asarray(corrV[0]), np.asarray(corrV[1]), np.asarray(corrV[2]), np.asarray(corrV[3])), labels=['4x4','8x8', '16x16', '32x32']);\n",
    "plt.gca().set_ylim([0, 1.1]);\n",
    "plt.ylabel(\"Absolute Correlation Coefficient\");"
   ]
  },
  {
   "cell_type": "markdown",
   "metadata": {},
   "source": [
    "Surprisingly, the correlation increases with the block size (with the exception of 4x4 to 8x8). It is important to notice that as the block size increases, fewer samples make up the distribution. This could partially explain this phenomena. Correlation might also not be the best metric to evaluate blocks, as the relation between luma and chroma is not necessarily linear.  "
   ]
  }
 ],
 "metadata": {
  "kernelspec": {
   "display_name": "Python 3",
   "language": "python",
   "name": "python3"
  },
  "language_info": {
   "codemirror_mode": {
    "name": "ipython",
    "version": 3
   },
   "file_extension": ".py",
   "mimetype": "text/x-python",
   "name": "python",
   "nbconvert_exporter": "python",
   "pygments_lexer": "ipython3",
   "version": "3.6.5"
  }
 },
 "nbformat": 4,
 "nbformat_minor": 2
}
