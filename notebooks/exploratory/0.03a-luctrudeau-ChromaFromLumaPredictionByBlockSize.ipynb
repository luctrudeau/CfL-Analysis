{
 "cells": [
  {
   "cell_type": "markdown",
   "metadata": {},
   "source": [
    "# Chroma from Luma Prediction by Block Size\n",
    "\n",
    "In this notebook, we revisit the [chroma from luma prediction](https://github.com/luctrudeau/CfL-Analysis/blob/master/notebooks/exploratory/0.03-luctrudeau-ChromaFromLumaPrediction.ipynb) experiment but consider the prediction error over multiple block sizes."
   ]
  },
  {
   "cell_type": "code",
   "execution_count": 30,
   "metadata": {},
   "outputs": [
    {
     "name": "stdout",
     "output_type": "stream",
     "text": [
      "The autoreload extension is already loaded. To reload it, use:\n",
      "  %reload_ext autoreload\n"
     ]
    }
   ],
   "source": [
    "%matplotlib inline\n",
    "\n",
    "# Load the \"autoreload\" extension so that code can change\n",
    "%load_ext autoreload\n",
    "\n",
    "# Always reload modules so that as you change code in src, it gets loaded\n",
    "%autoreload 2\n",
    "\n",
    "import load_paths\n",
    "from src.data import make_kodim\n",
    "\n",
    "import matplotlib.pyplot as plt\n",
    "import numpy as np\n",
    "\n",
    "[kodims, kodim_files] = make_kodim.load_kodim()\n",
    "num_kodim = len(kodim_files)\n",
    "\n",
    "block_sizes = [4,8,16,32]\n",
    "\n",
    "err = []\n",
    "\n",
    "for b in range(0, 4):\n",
    "    block_size = block_sizes[b]\n",
    "    err.append([])\n",
    "    numpel = block_size * block_size\n",
    "    \n",
    "    for k in range(0, num_kodim):\n",
    "        im = kodims[k]\n",
    "        height, width, z = im.shape\n",
    "        plot_width = width // block_size\n",
    "        plot_height = height // block_size\n",
    "        \n",
    "        for y in range(0, height, block_size):\n",
    "            for x in range(0, width, block_size):\n",
    "                bY = im[y:y+block_size, x:x+block_size, 0].ravel()\n",
    "                bU = im[y:y+block_size, x:x+block_size, 1].ravel()\n",
    "                bV = im[y:y+block_size, x:x+block_size, 2].ravel()\n",
    "                \n",
    "                avgY = np.mean(bY)\n",
    "                avgU = np.mean(bU)\n",
    "                avgV = np.mean(bV)\n",
    "                \n",
    "                dY = bY - avgY\n",
    "                dU = bU - avgU\n",
    "                dV = bV - avgV\n",
    "                \n",
    "                sY2 = np.sum(dY**2)\n",
    "                sYU = np.sum(dY*dU)\n",
    "                sYV = np.sum(dY*dV)\n",
    "                \n",
    "                aU = 0 if sY2 == 0 else sYU / sY2 \n",
    "                aV = 0 if sY2 == 0 else sYV / sY2 \n",
    "                \n",
    "                err[b].append(np.sum((bU - (aU * dY + avgU))**2) / numpel)\n",
    "                err[b].append(np.sum((bV - (aV * dY + avgV))**2) / numpel)"
   ]
  },
  {
   "cell_type": "markdown",
   "metadata": {},
   "source": [
    "## Chroma from Luma Prediction Mean Square Error\n",
    "\n",
    "For each block in each image, we compute the error between the U and V values and their respective CfL predictions. The following boxplot shows the minimum, first quartile, median, third quartile and the maximum mean squared prediction error."
   ]
  },
  {
   "cell_type": "code",
   "execution_count": 34,
   "metadata": {},
   "outputs": [
    {
     "data": {
      "image/png": "[encoded data removed]",
      "text/plain": [
       "<matplotlib.figure.Figure at 0x7f143e7d2048>"
      ]
     },
     "metadata": {},
     "output_type": "display_data"
    }
   ],
   "source": [
    "plt.boxplot((np.asarray(err[0]), np.asarray(err[1]), np.asarray(err[2]), np.asarray(err[3])),\n",
    "            labels=['4x4', '8x8', '16x16', '32x32'], showfliers=False);\n",
    "plt.ylabel(\"MSE\");"
   ]
  },
  {
   "cell_type": "markdown",
   "metadata": {},
   "source": [
    "By using the mean square error, can compare prediction error for different block sizes. As the block size increases, so does the mean prediction error."
   ]
  },
  {
   "cell_type": "code",
   "execution_count": null,
   "metadata": {},
   "outputs": [],
   "source": []
  }
 ],
 "metadata": {
  "kernelspec": {
   "display_name": "Python 3",
   "language": "python",
   "name": "python3"
  },
  "language_info": {
   "codemirror_mode": {
    "name": "ipython",
    "version": 3
   },
   "file_extension": ".py",
   "mimetype": "text/x-python",
   "name": "python",
   "nbconvert_exporter": "python",
   "pygments_lexer": "ipython3",
   "version": "3.6.5"
  }
 },
 "nbformat": 4,
 "nbformat_minor": 2
}
